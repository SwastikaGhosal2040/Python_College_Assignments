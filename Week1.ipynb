{
  "nbformat": 4,
  "nbformat_minor": 0,
  "metadata": {
    "colab": {
      "provenance": [],
      "authorship_tag": "ABX9TyMEjp615x1Csyc2dvyl/6+M",
      "include_colab_link": true
    },
    "kernelspec": {
      "name": "python3",
      "display_name": "Python 3"
    },
    "language_info": {
      "name": "python"
    }
  },
  "cells": [
    {
      "cell_type": "markdown",
      "metadata": {
        "id": "view-in-github",
        "colab_type": "text"
      },
      "source": [
        "<a href=\"https://colab.research.google.com/github/SwastikaGhosal2040/Python_College_Assignments/blob/main/Week1.ipynb\" target=\"_parent\"><img src=\"https://colab.research.google.com/assets/colab-badge.svg\" alt=\"Open In Colab\"/></a>"
      ]
    },
    {
      "cell_type": "markdown",
      "source": [
        "Write a Python program that asks the user for his name and then welcomes him."
      ],
      "metadata": {
        "id": "b7LFHVCfvsHf"
      }
    },
    {
      "cell_type": "code",
      "source": [
        "name = input(\"Enter your name :\")\n",
        "print(f\"Welcome {name}\")"
      ],
      "metadata": {
        "colab": {
          "base_uri": "https://localhost:8080/"
        },
        "id": "cSW38OXowEuQ",
        "outputId": "30c81413-ad0c-48f4-a9cb-3b172d4ae847"
      },
      "execution_count": 1,
      "outputs": [
        {
          "output_type": "stream",
          "name": "stdout",
          "text": [
            "Enter your name :Swastika Ghosal\n",
            "Welcome Swastika Ghosal\n"
          ]
        }
      ]
    },
    {
      "cell_type": "markdown",
      "source": [
        "Write a Python program that accepts principle, rate and time from the user and prints the simple interest."
      ],
      "metadata": {
        "id": "PWIl6jkdwzeW"
      }
    },
    {
      "cell_type": "code",
      "source": [
        "principle = float(input(\"Enter the principle :\"))\n",
        "rate = float(input(\"Enter the rate(in %):\"))\n",
        "time = float(input(\"Enter the time (in years):\"))\n",
        "simple_interest = (principle*rate*time)/100\n",
        "print(f\"The simple interest is : {simple_interest}\")"
      ],
      "metadata": {
        "colab": {
          "base_uri": "https://localhost:8080/"
        },
        "id": "PhYUQ-3FxIfy",
        "outputId": "ee205e92-2016-418c-e7a0-a879cf18f957"
      },
      "execution_count": 3,
      "outputs": [
        {
          "output_type": "stream",
          "name": "stdout",
          "text": [
            "Enter the principle :100\n",
            "Enter the rate(in %):20\n",
            "Enter the time (in years):2\n",
            "The simple interest is : 40.0\n"
          ]
        }
      ]
    },
    {
      "cell_type": "markdown",
      "source": [
        "Write a Python program that prompts the user to input principle, rate and time and calculate the compound interest."
      ],
      "metadata": {
        "id": "dYEjGff3yKYo"
      }
    },
    {
      "cell_type": "code",
      "source": [
        "P = float(input(\"Enter the principle :\"))\n",
        "r = float(input(\"Enter the rate(in %):\"))\n",
        "n = float(input(\"Enter the time (in years) :\"))\n",
        "CI = P*(1+r/100)**n\n",
        "print(f\"The compound interest is : {CI}\")"
      ],
      "metadata": {
        "colab": {
          "base_uri": "https://localhost:8080/"
        },
        "id": "kDF7TLCKyfb7",
        "outputId": "05086619-7fe0-43f5-f654-8dbed4dbe84b"
      },
      "execution_count": 4,
      "outputs": [
        {
          "output_type": "stream",
          "name": "stdout",
          "text": [
            "Enter the principle :100\n",
            "Enter the rate(in %)20\n",
            "Enter the time (in years) :2\n",
            "The compound interest is : 144.0\n"
          ]
        }
      ]
    },
    {
      "cell_type": "markdown",
      "source": [
        "Write a Program in Python to calculate the area and perimeter of various polygons such as triangles, rectangles and circles."
      ],
      "metadata": {
        "id": "Wnq9H1ZKAhHK"
      }
    },
    {
      "cell_type": "code",
      "source": [
        "import math\n",
        "\n",
        "def calculate_triangle_area(base, height):\n",
        "  \"\"\"Calculates the area of a triangle.\"\"\"\n",
        "  area = 0.5 * base * height\n",
        "  return area\n",
        "\n",
        "def calculate_triangle_perimeter(side1, side2, side3):\n",
        "  \"\"\"Calculates the perimeter of a triangle.\"\"\"\n",
        "  perimeter = side1 + side2 + side3\n",
        "  return perimeter\n",
        "\n",
        "def calculate_rectangle_area(length, width):\n",
        "  \"\"\"Calculates the area of a rectangle.\"\"\"\n",
        "  area = length * width\n",
        "  return area\n",
        "\n",
        "def calculate_rectangle_perimeter(length, width):\n",
        "  \"\"\"Calculates the perimeter of a rectangle.\"\"\"\n",
        "  perimeter = 2 * (length + width)\n",
        "  return perimeter\n",
        "\n",
        "def calculate_circle_area(radius):\n",
        "  \"\"\"Calculates the area of a circle.\"\"\"\n",
        "  area = math.pi * radius * radius\n",
        "  return area\n",
        "\n",
        "def calculate_circle_circumference(radius):\n",
        "  \"\"\"Calculates the circumference of a circle.\"\"\"\n",
        "  circumference = 2 * math.pi * radius\n",
        "  return circumference\n",
        "\n",
        "def main():\n",
        "  while True:\n",
        "    shape = input(\"Enter the shape (triangle, rectangle, circle, or quit): \").lower()\n",
        "\n",
        "    if shape == \"quit\":\n",
        "      break\n",
        "\n",
        "    if shape == \"triangle\":\n",
        "      base = float(input(\"Enter the base of the triangle: \"))\n",
        "      height = float(input(\"Enter the height of the triangle: \"))\n",
        "      side1 = float(input(\"Enter the first side of the triangle: \"))\n",
        "      side2 = float(input(\"Enter the second side of the triangle: \"))\n",
        "      side3 = float(input(\"Enter the third side of the triangle: \"))\n",
        "\n",
        "      area = calculate_triangle_area(base, height)\n",
        "      perimeter = calculate_triangle_perimeter(side1, side2, side3)\n",
        "      print(\"Area of the triangle:\", area)\n",
        "      print(\"Perimeter of the triangle:\", perimeter)\n",
        "\n",
        "    elif shape == \"rectangle\":\n",
        "      length = float(input(\"Enter the length of the rectangle: \"))\n",
        "      width = float(input(\"Enter the width of the rectangle: \"))\n",
        "\n",
        "      area = calculate_rectangle_area(length, width)\n",
        "      perimeter = calculate_rectangle_perimeter(length, width)\n",
        "      print(\"Area of the rectangle:\", area)\n",
        "      print(\"Perimeter of the rectangle:\", perimeter)\n",
        "\n",
        "    elif shape == \"circle\":\n",
        "      radius = float(input(\"Enter the radius of the circle: \"))\n",
        "\n",
        "      area = calculate_circle_area(radius)\n",
        "      circumference = calculate_circle_circumference(radius)\n",
        "      print(\"Area of the circle:\", area)\n",
        "      print(\"Circumference of the circle:\", circumference)\n",
        "\n",
        "    else:\n",
        "      print(\"Invalid shape. Please enter triangle, rectangle, circle, or quit.\")\n",
        "\n",
        "if __name__ == \"__main__\":\n",
        "  main()\n"
      ],
      "metadata": {
        "colab": {
          "base_uri": "https://localhost:8080/"
        },
        "id": "oV3SrrrAAzzB",
        "outputId": "9ac51f19-6ac8-44d5-bbbb-8e4df73c78d6"
      },
      "execution_count": 5,
      "outputs": [
        {
          "name": "stdout",
          "output_type": "stream",
          "text": [
            "Enter the shape (triangle, rectangle, circle, or quit): triangle\n",
            "Enter the base of the triangle: 5\n",
            "Enter the height of the triangle: 3\n",
            "Enter the first side of the triangle: 4\n",
            "Enter the second side of the triangle: 5\n",
            "Enter the third side of the triangle: 6\n",
            "Area of the triangle: 7.5\n",
            "Perimeter of the triangle: 15.0\n",
            "Enter the shape (triangle, rectangle, circle, or quit): rectangle\n",
            "Enter the length of the rectangle: 8\n",
            "Enter the width of the rectangle: 4\n",
            "Area of the rectangle: 32.0\n",
            "Perimeter of the rectangle: 24.0\n",
            "Enter the shape (triangle, rectangle, circle, or quit): circle\n",
            "Enter the radius of the circle: 3\n",
            "Area of the circle: 28.274333882308138\n",
            "Circumference of the circle: 18.84955592153876\n",
            "Enter the shape (triangle, rectangle, circle, or quit): quit\n"
          ]
        }
      ]
    },
    {
      "cell_type": "markdown",
      "source": [
        "Write a program in Python to input 3 numbers separated by comma, and find the largest and smallest among them"
      ],
      "metadata": {
        "id": "n8g8NYNh2VMI"
      }
    },
    {
      "cell_type": "code",
      "source": [
        "a = float(input(\"Enter the first number :\"))\n",
        "b = float(input(\"Enter the second number :\"))\n",
        "c = float(input(\"Enter the third number :\"))\n",
        "if(a>b and a>c):\n",
        "  print(f\"{a} is largest number\")\n",
        "elif(b>a and b>c):\n",
        "  print(f\"{b} is largest number\")\n",
        "elif(c>a and c>b):\n",
        "  print(f\"{c} is largest number\")\n",
        "elif(a<b and a<c):\n",
        "  print(f\"{a} is smallest number\")\n",
        "elif(b<a and b<c):\n",
        "  print(f\"{b} is smallest number\")\n",
        "elif(c<a and c<b):\n",
        "  print(f\"{c} is smallest number\")\n",
        "else:\n",
        "  print(\"All numbers are equal\")"
      ],
      "metadata": {
        "colab": {
          "base_uri": "https://localhost:8080/"
        },
        "id": "zaB_Ychz20e5",
        "outputId": "a68b4c93-48f8-4dee-83ff-308d9e18d36e"
      },
      "execution_count": 2,
      "outputs": [
        {
          "output_type": "stream",
          "name": "stdout",
          "text": [
            "Enter the first number :3\n",
            "Enter the second number :4\n",
            "Enter the third number :4\n",
            "3.0 is smallest number\n"
          ]
        }
      ]
    },
    {
      "cell_type": "markdown",
      "source": [
        "Write a program in Python to input three numbers separated by comma, and find the largest and smallest among them"
      ],
      "metadata": {
        "id": "O8hRffmo1ypw"
      }
    },
    {
      "cell_type": "code",
      "source": [],
      "metadata": {
        "id": "IFSKe9Gy2Vff"
      },
      "execution_count": null,
      "outputs": []
    }
  ]
}