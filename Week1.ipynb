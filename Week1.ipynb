{
  "nbformat": 4,
  "nbformat_minor": 0,
  "metadata": {
    "colab": {
      "provenance": [],
      "authorship_tag": "ABX9TyPRobcS/bVN20tkEqmZ2/Os",
      "include_colab_link": true
    },
    "kernelspec": {
      "name": "python3",
      "display_name": "Python 3"
    },
    "language_info": {
      "name": "python"
    }
  },
  "cells": [
    {
      "cell_type": "markdown",
      "metadata": {
        "id": "view-in-github",
        "colab_type": "text"
      },
      "source": [
        "<a href=\"https://colab.research.google.com/github/SwastikaGhosal2040/Python_College_Assignments/blob/main/Week1.ipynb\" target=\"_parent\"><img src=\"https://colab.research.google.com/assets/colab-badge.svg\" alt=\"Open In Colab\"/></a>"
      ]
    },
    {
      "cell_type": "markdown",
      "source": [
        "Write a Python program that asks the user for his name and then welcomes him."
      ],
      "metadata": {
        "id": "b7LFHVCfvsHf"
      }
    },
    {
      "cell_type": "code",
      "source": [
        "name = input(\"Enter your name :\")\n",
        "print(f\"Welcome {name}\")"
      ],
      "metadata": {
        "colab": {
          "base_uri": "https://localhost:8080/"
        },
        "id": "cSW38OXowEuQ",
        "outputId": "30c81413-ad0c-48f4-a9cb-3b172d4ae847"
      },
      "execution_count": 1,
      "outputs": [
        {
          "output_type": "stream",
          "name": "stdout",
          "text": [
            "Enter your name :Swastika Ghosal\n",
            "Welcome Swastika Ghosal\n"
          ]
        }
      ]
    },
    {
      "cell_type": "markdown",
      "source": [
        "Write a Python program that accepts principle, rate and time from the user and prints the simple interest."
      ],
      "metadata": {
        "id": "PWIl6jkdwzeW"
      }
    },
    {
      "cell_type": "code",
      "source": [
        "principle = float(input(\"Enter the principle :\"))\n",
        "rate = float(input(\"Enter the rate(in %):\"))\n",
        "time = float(input(\"Enter the time (in years):\"))\n",
        "simple_interest = (principle*rate*time)/100\n",
        "print(f\"The simple interest is : {simple_interest}\")"
      ],
      "metadata": {
        "colab": {
          "base_uri": "https://localhost:8080/"
        },
        "id": "PhYUQ-3FxIfy",
        "outputId": "ee205e92-2016-418c-e7a0-a879cf18f957"
      },
      "execution_count": 3,
      "outputs": [
        {
          "output_type": "stream",
          "name": "stdout",
          "text": [
            "Enter the principle :100\n",
            "Enter the rate(in %):20\n",
            "Enter the time (in years):2\n",
            "The simple interest is : 40.0\n"
          ]
        }
      ]
    },
    {
      "cell_type": "markdown",
      "source": [
        "Write a Python program that prompts the user to input principle, rate and time and calculate the compound interest."
      ],
      "metadata": {
        "id": "dYEjGff3yKYo"
      }
    },
    {
      "cell_type": "code",
      "source": [
        "P = float(input(\"Enter the principle :\"))\n",
        "r = float(input(\"Enter the rate(in %):\"))\n",
        "n = float(input(\"Enter the time (in years) :\"))\n",
        "CI = P*(1+r/100)**n\n",
        "print(f\"The compound interest is : {CI}\")"
      ],
      "metadata": {
        "colab": {
          "base_uri": "https://localhost:8080/"
        },
        "id": "kDF7TLCKyfb7",
        "outputId": "05086619-7fe0-43f5-f654-8dbed4dbe84b"
      },
      "execution_count": 4,
      "outputs": [
        {
          "output_type": "stream",
          "name": "stdout",
          "text": [
            "Enter the principle :100\n",
            "Enter the rate(in %)20\n",
            "Enter the time (in years) :2\n",
            "The compound interest is : 144.0\n"
          ]
        }
      ]
    },
    {
      "cell_type": "code",
      "source": [],
      "metadata": {
        "id": "OGi9bzg14Sz_"
      },
      "execution_count": null,
      "outputs": []
    }
  ]
}