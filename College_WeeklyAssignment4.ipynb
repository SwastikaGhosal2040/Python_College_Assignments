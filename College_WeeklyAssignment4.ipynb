{
  "nbformat": 4,
  "nbformat_minor": 0,
  "metadata": {
    "colab": {
      "provenance": [],
      "authorship_tag": "ABX9TyN4tw4AB6dKuSDx7ZdPOGXu",
      "include_colab_link": true
    },
    "kernelspec": {
      "name": "python3",
      "display_name": "Python 3"
    },
    "language_info": {
      "name": "python"
    }
  },
  "cells": [
    {
      "cell_type": "markdown",
      "metadata": {
        "id": "view-in-github",
        "colab_type": "text"
      },
      "source": [
        "<a href=\"https://colab.research.google.com/github/SwastikaGhosal2040/Python_College_Assignments/blob/main/College_WeeklyAssignment4.ipynb\" target=\"_parent\"><img src=\"https://colab.research.google.com/assets/colab-badge.svg\" alt=\"Open In Colab\"/></a>"
      ]
    },
    {
      "cell_type": "markdown",
      "source": [
        "Write a Python program to exchange last and third last digit. If input is\n",
        "23617 then output is 23716."
      ],
      "metadata": {
        "id": "rRcDhuwadT93"
      }
    },
    {
      "cell_type": "code",
      "source": [
        "# Prompt the user to enter a number\n",
        "number = int(input(\"Enter a number: \"))\n",
        "\n",
        "# Convert the number to a string to easily access digits\n",
        "number_str = str(number)\n",
        "\n",
        "# Check if the number has at least three digits\n",
        "if len(number_str) < 3:\n",
        "    print(\"Number must have at least three digits.\")\n",
        "else:\n",
        "    # Swap the last and third last digits\n",
        "    swapped_number_str = (\n",
        "        number_str[:-3] +           # Part before the third last digit\n",
        "        number_str[-1] +            # Last digit\n",
        "        number_str[-2] +            # Second last digit (unchanged)\n",
        "        number_str[-3]              # Third last digit (now last)\n",
        "    )\n",
        "\n",
        "    # Convert the swapped string back to an integer\n",
        "    swapped_number = int(swapped_number_str)\n",
        "\n",
        "    # Print the result\n",
        "    #print(\"Original number:\", number)\n",
        "    print(\"Swapped number:\", swapped_number)\n"
      ],
      "metadata": {
        "colab": {
          "base_uri": "https://localhost:8080/"
        },
        "id": "kbH33fevdXT4",
        "outputId": "683d834e-a8a3-4b52-bca2-1552b68243a5"
      },
      "execution_count": 1,
      "outputs": [
        {
          "output_type": "stream",
          "name": "stdout",
          "text": [
            "Enter a number: 23617\n",
            "Swapped number: 23716\n"
          ]
        }
      ]
    },
    {
      "cell_type": "markdown",
      "source": [
        "Write a Python program to double the second last digit and print the\n",
        "number. If input is 234 then output is 264."
      ],
      "metadata": {
        "id": "KMJf7tpj_jKH"
      }
    },
    {
      "cell_type": "code",
      "source": [
        "# Prompt the user to enter a number\n",
        "number = int(input(\"Enter a number: \"))\n",
        "\n",
        "# Convert the number to a string to easily access digits\n",
        "number_str = str(number)\n",
        "\n",
        "# Check if the number has at least two digits\n",
        "if len(number_str) < 2:\n",
        "    print(\"Number must have at least two digits.\")\n",
        "else:\n",
        "    # Extract the second last digit and double it\n",
        "    second_last_digit = int(number_str[-2])\n",
        "    doubled_digit = second_last_digit * 2\n",
        "\n",
        "    # Construct the new number with the doubled second last digit\n",
        "    modified_number_str = (\n",
        "        number_str[:-2] +         # Part before the second last digit\n",
        "        str(doubled_digit) +      # Doubled second last digit\n",
        "        number_str[-1]            # Last digit\n",
        "    )\n",
        "\n",
        "    # Convert the modified string back to an integer\n",
        "    modified_number = int(modified_number_str)\n",
        "\n",
        "    # Print the result\n",
        "    print(\"Modified number:\", modified_number)\n"
      ],
      "metadata": {
        "colab": {
          "base_uri": "https://localhost:8080/"
        },
        "id": "cymVeDNe_j4Q",
        "outputId": "58231be2-5653-4c43-ede9-0ce514c96acc"
      },
      "execution_count": 1,
      "outputs": [
        {
          "output_type": "stream",
          "name": "stdout",
          "text": [
            "Enter a number: 234\n",
            "Modified number: 264\n"
          ]
        }
      ]
    },
    {
      "cell_type": "markdown",
      "source": [
        "Write a Python program to insert 1 as a first digit after the decimal. If\n",
        "input is 12.34 then output is 12.134."
      ],
      "metadata": {
        "id": "1jZAPVsMVOAx"
      }
    },
    {
      "cell_type": "code",
      "source": [],
      "metadata": {
        "id": "IcTm_1saVP04"
      },
      "execution_count": null,
      "outputs": []
    }
  ]
}