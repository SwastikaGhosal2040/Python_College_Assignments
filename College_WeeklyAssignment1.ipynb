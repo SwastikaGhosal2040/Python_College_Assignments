{
  "nbformat": 4,
  "nbformat_minor": 0,
  "metadata": {
    "colab": {
      "provenance": [],
      "authorship_tag": "ABX9TyPTnQhHBtntBmgnCkmvc43E",
      "include_colab_link": true
    },
    "kernelspec": {
      "name": "python3",
      "display_name": "Python 3"
    },
    "language_info": {
      "name": "python"
    }
  },
  "cells": [
    {
      "cell_type": "markdown",
      "metadata": {
        "id": "view-in-github",
        "colab_type": "text"
      },
      "source": [
        "<a href=\"https://colab.research.google.com/github/SwastikaGhosal2040/Python_College_Assignments/blob/main/College_WeeklyAssignment1.ipynb\" target=\"_parent\"><img src=\"https://colab.research.google.com/assets/colab-badge.svg\" alt=\"Open In Colab\"/></a>"
      ]
    },
    {
      "cell_type": "markdown",
      "source": [
        "Write a Python program to delete the last digit and print this. If input is\n",
        "13613 then output is 3."
      ],
      "metadata": {
        "id": "NtUp_R4Gn1Ot"
      }
    },
    {
      "cell_type": "code",
      "source": [
        "# Take user input\n",
        "number = int(input(\"Enter a number: \"))\n",
        "\n",
        "# Remove the last digit by floor division\n",
        "#number_without_last_digit = number // 10\n",
        "\n",
        "# Get the last digit using modulo operation\n",
        "last_digit = number % 10\n",
        "\n",
        "# Print the new last digit\n",
        "print(\"The new last digit is:\", last_digit)\n"
      ],
      "metadata": {
        "colab": {
          "base_uri": "https://localhost:8080/"
        },
        "id": "cZb1-DyWn3hJ",
        "outputId": "db4fdf0d-71f1-4491-a9f8-7905e2dfdb31"
      },
      "execution_count": 4,
      "outputs": [
        {
          "output_type": "stream",
          "name": "stdout",
          "text": [
            "Enter a number: 13613\n",
            "The new last digit is: 3\n"
          ]
        }
      ]
    },
    {
      "cell_type": "markdown",
      "source": [
        "Write a Python program to print the second last digit. If input is 427 then\n",
        "output is 2."
      ],
      "metadata": {
        "id": "EPRrV-xzvHgT"
      }
    },
    {
      "cell_type": "code",
      "source": [
        "# Take user input\n",
        "number = int(input(\"Enter a number: \"))\n",
        "\n",
        "# Remove the last digit by floor division\n",
        "number_without_last_digit = number // 10\n",
        "\n",
        "# Get the new last digit using modulo operation\n",
        "second_last_digit = number_without_last_digit % 10\n",
        "\n",
        "# Print the new last digit\n",
        "print(\"The second last digit is:\", second_last_digit)"
      ],
      "metadata": {
        "colab": {
          "base_uri": "https://localhost:8080/"
        },
        "id": "6mYEtDkrvIge",
        "outputId": "5a6fef04-1eb9-470d-f2ad-42c372615ecb"
      },
      "execution_count": 5,
      "outputs": [
        {
          "output_type": "stream",
          "name": "stdout",
          "text": [
            "Enter a number: 427\n",
            "The second last digit is: 2\n"
          ]
        }
      ]
    },
    {
      "cell_type": "markdown",
      "source": [
        "Write a Python program to exchange the last two digits. If input is 23617\n",
        "then output is 23671."
      ],
      "metadata": {
        "id": "IoUL01IEyvC4"
      }
    },
    {
      "cell_type": "code",
      "source": [
        "# Take user input\n",
        "number = int(input(\"Enter a number: \"))\n",
        "\n",
        "# Extract the last two digits\n",
        "last_two_digits = number % 100\n",
        "\n",
        "# Find the individual digits\n",
        "last_digit = last_two_digits % 10\n",
        "second_last_digit = last_two_digits // 10\n",
        "\n",
        "# Swap the last two digits\n",
        "swapped_last_two_digits = last_digit * 10 + second_last_digit\n",
        "\n",
        "# Replace the original last two digits with the swapped ones\n",
        "new_number = (number // 100) * 100 + swapped_last_two_digits\n",
        "\n",
        "# Print the new number\n",
        "print(\"The number after swapping the last two digits is:\", new_number)\n"
      ],
      "metadata": {
        "colab": {
          "base_uri": "https://localhost:8080/"
        },
        "id": "gTcW5vo5ywD2",
        "outputId": "7e09118a-4425-426d-f1af-77a002e7296a"
      },
      "execution_count": 6,
      "outputs": [
        {
          "output_type": "stream",
          "name": "stdout",
          "text": [
            "Enter a number: 23617\n",
            "The number after swapping the last two digits is: 23671\n"
          ]
        }
      ]
    },
    {
      "cell_type": "markdown",
      "source": [
        "Write a Python program to read a number and find their product after\n",
        "exchanging last digits. If inputs are 348 and 31 then output is 12958\n",
        "(341*38)."
      ],
      "metadata": {
        "id": "3j8JJvqsvwa9"
      }
    },
    {
      "cell_type": "code",
      "source": [
        "# Take two numbers as input\n",
        "number1 = int(input(\"Enter the first number: \"))\n",
        "number2 = int(input(\"Enter the second number: \"))\n",
        "\n",
        "# Extract the last digits\n",
        "last_digit1 = number1 % 10\n",
        "last_digit2 = number2 % 10\n",
        "\n",
        "# Swap the last digits between the two numbers\n",
        "new_number1 = (number1 // 10) * 10 + last_digit2\n",
        "new_number2 = (number2 // 10) * 10 + last_digit1\n",
        "\n",
        "# Calculate the product of the modified numbers\n",
        "product = new_number1 * new_number2\n",
        "\n",
        "# Print the result\n",
        "print(\"The product of the numbers after exchanging last digits is:\", product)\n"
      ],
      "metadata": {
        "colab": {
          "base_uri": "https://localhost:8080/"
        },
        "id": "omh9MpcSvxgp",
        "outputId": "77ca9a8c-ea27-461d-febd-bb21ccd59840"
      },
      "execution_count": 7,
      "outputs": [
        {
          "output_type": "stream",
          "name": "stdout",
          "text": [
            "Enter the first number: 348\n",
            "Enter the second number: 31\n",
            "The product of the numbers after exchanging last digits is: 12958\n"
          ]
        }
      ]
    },
    {
      "cell_type": "markdown",
      "source": [
        "Write a Python program to print the sum of last two digits. If input is 13613\n",
        "then output is 1+3=4"
      ],
      "metadata": {
        "id": "ZsWHSu5Oy9IX"
      }
    },
    {
      "cell_type": "code",
      "source": [
        "# Take user input\n",
        "number = int(input(\"Enter a number: \"))\n",
        "\n",
        "# Extract the last two digits\n",
        "last_two_digits = number % 100\n",
        "\n",
        "# Find the individual digits\n",
        "last_digit = last_two_digits % 10\n",
        "second_last_digit = last_two_digits // 10\n",
        "\n",
        "# Calculate the sum of the last two digits\n",
        "sum_of_digits = last_digit + second_last_digit\n",
        "\n",
        "# Print the result\n",
        "print(f\"The sum of the last two digits is: {second_last_digit} + {last_digit} = {sum_of_digits}\")\n"
      ],
      "metadata": {
        "colab": {
          "base_uri": "https://localhost:8080/"
        },
        "id": "zG3s34Jey-XY",
        "outputId": "1f0796fb-23d1-4d0a-9d82-bfdb07ae74fa"
      },
      "execution_count": 8,
      "outputs": [
        {
          "output_type": "stream",
          "name": "stdout",
          "text": [
            "Enter a number: 13613\n",
            "The sum of the last two digits is: 1 + 3 = 4\n"
          ]
        }
      ]
    },
    {
      "cell_type": "code",
      "source": [],
      "metadata": {
        "id": "8NkiAI1R2eLr"
      },
      "execution_count": null,
      "outputs": []
    }
  ]
}