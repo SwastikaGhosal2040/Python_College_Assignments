{
  "nbformat": 4,
  "nbformat_minor": 0,
  "metadata": {
    "colab": {
      "provenance": [],
      "authorship_tag": "ABX9TyOiIcEHChcN9PUDWw0KW2la",
      "include_colab_link": true
    },
    "kernelspec": {
      "name": "python3",
      "display_name": "Python 3"
    },
    "language_info": {
      "name": "python"
    }
  },
  "cells": [
    {
      "cell_type": "markdown",
      "metadata": {
        "id": "view-in-github",
        "colab_type": "text"
      },
      "source": [
        "<a href=\"https://colab.research.google.com/github/SwastikaGhosal2040/Python_College_Assignments/blob/main/College_WeeklyAssignment3.ipynb\" target=\"_parent\"><img src=\"https://colab.research.google.com/assets/colab-badge.svg\" alt=\"Open In Colab\"/></a>"
      ]
    },
    {
      "cell_type": "markdown",
      "source": [
        "Write a Python program that checks if a character entered by the user is a\n",
        "vowel or a consonant."
      ],
      "metadata": {
        "id": "I_r-Fz5JJ8-C"
      }
    },
    {
      "cell_type": "code",
      "source": [
        "# Take user input for a single character\n",
        "char = input(\"Enter a character: \").lower()  # Convert to lowercase for simplicity\n",
        "\n",
        "# Define a set of vowels\n",
        "vowels = {'a', 'e', 'i', 'o', 'u'}\n",
        "\n",
        "# Check if the input is a single alphabetic character\n",
        "if char.isalpha() and len(char) == 1:\n",
        "  #The method char.isalpha() is used to check if all characters in a string are alphabetic (i.e., letters).\n",
        "    # Check if the character is a vowel\n",
        "    if char in vowels:\n",
        "        print(f\"The character '{char}' is a vowel.\")\n",
        "    else:\n",
        "        print(f\"The character '{char}' is a consonant.\")\n",
        "else:\n",
        "    print(\"Please enter a valid single alphabetic character.\")\n"
      ],
      "metadata": {
        "colab": {
          "base_uri": "https://localhost:8080/"
        },
        "id": "PcMTxU70KDTX",
        "outputId": "9c3e8b88-409f-4348-b931-a53d90a60b7a"
      },
      "execution_count": 1,
      "outputs": [
        {
          "output_type": "stream",
          "name": "stdout",
          "text": [
            "Enter a character: a\n",
            "The character 'a' is a vowel.\n"
          ]
        }
      ]
    },
    {
      "cell_type": "code",
      "source": [
        "# Take user input for a single character\n",
        "char = input(\"Enter a character: \").lower()  # Convert to lowercase for simplicity\n",
        "\n",
        "# Define a set of vowels\n",
        "vowels = {'a', 'e', 'i', 'o', 'u'}\n",
        "\n",
        "# Check if the input is a single alphabetic character\n",
        "if char.isalpha() and len(char) == 1:\n",
        "  #The method char.isalpha() is used to check if all characters in a string are alphabetic (i.e., letters).\n",
        "    # Check if the character is a vowel\n",
        "    if char in vowels:\n",
        "        print(f\"The character '{char}' is a vowel.\")\n",
        "    else:\n",
        "        print(f\"The character '{char}' is a consonant.\")\n",
        "else:\n",
        "    print(\"Please enter a valid single alphabetic character.\")\n"
      ],
      "metadata": {
        "colab": {
          "base_uri": "https://localhost:8080/"
        },
        "id": "fR-jTa33ME_h",
        "outputId": "048bddee-cd7a-4913-b00b-b2af90552baa"
      },
      "execution_count": 2,
      "outputs": [
        {
          "output_type": "stream",
          "name": "stdout",
          "text": [
            "Enter a character: b3\n",
            "Please enter a valid single alphabetic character.\n"
          ]
        }
      ]
    },
    {
      "cell_type": "code",
      "source": [
        "# Take user input for a single character\n",
        "char = input(\"Enter a character: \").lower()  # Convert to lowercase for simplicity\n",
        "\n",
        "# Define a set of vowels\n",
        "vowels = {'a', 'e', 'i', 'o', 'u'}\n",
        "\n",
        "# Check if the input is a single alphabetic character\n",
        "if char.isalpha() and len(char) == 1:\n",
        "  #The method char.isalpha() is used to check if all characters in a string are alphabetic (i.e., letters).\n",
        "    # Check if the character is a vowel\n",
        "    if char in vowels:\n",
        "        print(f\"The character '{char}' is a vowel.\")\n",
        "    else:\n",
        "        print(f\"The character '{char}' is a consonant.\")\n",
        "else:\n",
        "    print(\"Please enter a valid single alphabetic character.\")\n"
      ],
      "metadata": {
        "colab": {
          "base_uri": "https://localhost:8080/"
        },
        "id": "iGD0CgHqMIy8",
        "outputId": "5c3c8942-3f35-4a1c-c0c4-cb7ac87ccff7"
      },
      "execution_count": 3,
      "outputs": [
        {
          "output_type": "stream",
          "name": "stdout",
          "text": [
            "Enter a character: 1\n",
            "Please enter a valid single alphabetic character.\n"
          ]
        }
      ]
    },
    {
      "cell_type": "code",
      "source": [
        "# Take user input for a single character\n",
        "char = input(\"Enter a character: \").lower()  # Convert to lowercase for simplicity\n",
        "\n",
        "# Define a set of vowels\n",
        "vowels = {'a', 'e', 'i', 'o', 'u'}\n",
        "\n",
        "# Check if the input is a single alphabetic character\n",
        "if char.isalpha() and len(char) == 1:\n",
        "  #The method char.isalpha() is used to check if all characters in a string are alphabetic (i.e., letters).\n",
        "    # Check if the character is a vowel\n",
        "    if char in vowels:\n",
        "        print(f\"The character '{char}' is a vowel.\")\n",
        "    else:\n",
        "        print(f\"The character '{char}' is a consonant.\")\n",
        "else:\n",
        "    print(\"Please enter a valid single alphabetic character.\")\n"
      ],
      "metadata": {
        "colab": {
          "base_uri": "https://localhost:8080/"
        },
        "id": "WvDAsnDOMO5G",
        "outputId": "f682a538-e03c-475e-8c09-ad68fa5971ec"
      },
      "execution_count": 4,
      "outputs": [
        {
          "output_type": "stream",
          "name": "stdout",
          "text": [
            "Enter a character: A\n",
            "The character 'a' is a vowel.\n"
          ]
        }
      ]
    },
    {
      "cell_type": "code",
      "source": [
        "# Take user input for a single character\n",
        "char = input(\"Enter a character: \").lower()  # Convert to lowercase for simplicity\n",
        "\n",
        "# Define a set of vowels\n",
        "vowels = {'a', 'e', 'i', 'o', 'u'}\n",
        "\n",
        "# Check if the input is a single alphabetic character\n",
        "if char.isalpha() and len(char) == 1:\n",
        "  #The method char.isalpha() is used to check if all characters in a string are alphabetic (i.e., letters).\n",
        "    # Check if the character is a vowel\n",
        "    if char in vowels:\n",
        "        print(f\"The character '{char}' is a vowel.\")\n",
        "    else:\n",
        "        print(f\"The character '{char}' is a consonant.\")\n",
        "else:\n",
        "    print(\"Please enter a valid single alphabetic character.\")\n"
      ],
      "metadata": {
        "colab": {
          "base_uri": "https://localhost:8080/"
        },
        "id": "DfBRCUS0MQ7u",
        "outputId": "96127371-6448-416d-acbb-26f8357bf00e"
      },
      "execution_count": 5,
      "outputs": [
        {
          "output_type": "stream",
          "name": "stdout",
          "text": [
            "Enter a character: aA\n",
            "Please enter a valid single alphabetic character.\n"
          ]
        }
      ]
    },
    {
      "cell_type": "markdown",
      "source": [
        "Write a Python program that finds the largest of three numbers entered by\n",
        "the user."
      ],
      "metadata": {
        "id": "ULncxinpMt2P"
      }
    },
    {
      "cell_type": "code",
      "source": [
        "# Take user input for three numbers\n",
        "num1 = float(input(\"Enter the first number: \"))\n",
        "num2 = float(input(\"Enter the second number: \"))\n",
        "num3 = float(input(\"Enter the third number: \"))\n",
        "\n",
        "# Check if all three numbers are equal\n",
        "if num1 == num2 == num3:\n",
        "    print(\"All numbers are equal.\")\n",
        "else:\n",
        "    # Determine the largest number\n",
        "    if num1 >= num2 and num1 >= num3:\n",
        "        largest = num1\n",
        "    elif num2 >= num1 and num2 >= num3:\n",
        "        largest = num2\n",
        "    else:\n",
        "        largest = num3\n",
        "\n",
        "    # Print the largest number\n",
        "    print(f\"The largest number is: {largest}\")\n",
        "\n"
      ],
      "metadata": {
        "colab": {
          "base_uri": "https://localhost:8080/"
        },
        "id": "WjbcIBdaMuO3",
        "outputId": "0a91110f-719a-43aa-814d-33a5fc7167e5"
      },
      "execution_count": 15,
      "outputs": [
        {
          "output_type": "stream",
          "name": "stdout",
          "text": [
            "Enter the first number: 4\n",
            "Enter the second number: 4\n",
            "Enter the third number: 4\n",
            "All numbers are equal.\n"
          ]
        }
      ]
    },
    {
      "cell_type": "code",
      "source": [
        "# Take user input for three numbers\n",
        "num1 = float(input(\"Enter the first number: \"))\n",
        "num2 = float(input(\"Enter the second number: \"))\n",
        "num3 = float(input(\"Enter the third number: \"))\n",
        "\n",
        "# Check if all three numbers are equal\n",
        "if num1 == num2 == num3:\n",
        "    print(\"All numbers are equal.\")\n",
        "else:\n",
        "    # Determine the largest number\n",
        "    if num1 >= num2 and num1 >= num3:\n",
        "        largest = num1\n",
        "    elif num2 >= num1 and num2 >= num3:\n",
        "        largest = num2\n",
        "    else:\n",
        "        largest = num3\n",
        "\n",
        "    # Print the largest number\n",
        "    print(f\"The largest number is: {largest}\")\n",
        "\n"
      ],
      "metadata": {
        "colab": {
          "base_uri": "https://localhost:8080/"
        },
        "id": "8AcLunyuNFA0",
        "outputId": "3737e2ab-f69a-4b0e-dcf2-58cbab08ce7c"
      },
      "execution_count": 16,
      "outputs": [
        {
          "output_type": "stream",
          "name": "stdout",
          "text": [
            "Enter the first number: 3\n",
            "Enter the second number: 4\n",
            "Enter the third number: 5\n",
            "The largest number is: 5.0\n"
          ]
        }
      ]
    },
    {
      "cell_type": "code",
      "source": [
        "\n",
        "# Take user input for three numbers\n",
        "num1 = float(input(\"Enter the first number: \"))\n",
        "num2 = float(input(\"Enter the second number: \"))\n",
        "num3 = float(input(\"Enter the third number: \"))\n",
        "\n",
        "# Check if all three numbers are equal\n",
        "if num1 == num2 == num3:\n",
        "    print(\"All numbers are equal.\")\n",
        "else:\n",
        "    # Determine the largest number\n",
        "    if num1 >= num2 and num1 >= num3:\n",
        "        largest = num1\n",
        "    elif num2 >= num1 and num2 >= num3:\n",
        "        largest = num2\n",
        "    else:\n",
        "        largest = num3\n",
        "\n",
        "    # Print the largest number\n",
        "    print(f\"The largest number is: {largest}\")\n",
        "\n",
        "\n"
      ],
      "metadata": {
        "colab": {
          "base_uri": "https://localhost:8080/"
        },
        "id": "kv7hQ2YZNIOI",
        "outputId": "5889d865-1d1e-419a-d8c0-5837283696cc"
      },
      "execution_count": 17,
      "outputs": [
        {
          "output_type": "stream",
          "name": "stdout",
          "text": [
            "Enter the first number: 3\n",
            "Enter the second number: 4\n",
            "Enter the third number: 4\n",
            "The largest number is: 4.0\n"
          ]
        }
      ]
    },
    {
      "cell_type": "code",
      "source": [
        "# Take user input for three numbers\n",
        "num1 = float(input(\"Enter the first number: \"))\n",
        "num2 = float(input(\"Enter the second number: \"))\n",
        "num3 = float(input(\"Enter the third number: \"))\n",
        "\n",
        "# Check if all three numbers are equal\n",
        "if num1 == num2 == num3:\n",
        "    print(\"All numbers are equal.\")\n",
        "else:\n",
        "    # Determine the largest number\n",
        "    if num1 >= num2 and num1 >= num3:\n",
        "        largest = num1\n",
        "    elif num2 >= num1 and num2 >= num3:\n",
        "        largest = num2\n",
        "    else:\n",
        "        largest = num3\n",
        "\n",
        "    # Print the largest number\n",
        "    print(f\"The largest number is: {largest}\")\n",
        "\n"
      ],
      "metadata": {
        "colab": {
          "base_uri": "https://localhost:8080/"
        },
        "id": "Ec1esCU0NMjN",
        "outputId": "267124ae-14d5-47d7-9031-01dce77928cd"
      },
      "execution_count": 18,
      "outputs": [
        {
          "output_type": "stream",
          "name": "stdout",
          "text": [
            "Enter the first number: 3\n",
            "Enter the second number: 3\n",
            "Enter the third number: 4\n",
            "The largest number is: 4.0\n"
          ]
        }
      ]
    },
    {
      "cell_type": "markdown",
      "source": [
        "Write a Python program that finds the smallest of three numbers entered\n",
        "by the user."
      ],
      "metadata": {
        "id": "9vkSq8OUNige"
      }
    },
    {
      "cell_type": "code",
      "source": [
        "# Take user input for three numbers\n",
        "num1 = float(input(\"Enter the first number: \"))\n",
        "num2 = float(input(\"Enter the second number: \"))\n",
        "num3 = float(input(\"Enter the third number: \"))\n",
        "\n",
        "# Check if all three numbers are equal\n",
        "if num1 == num2 == num3:\n",
        "    print(\"All numbers are equal.\")\n",
        "else:\n",
        "    # Determine the smallest number\n",
        "    if num1 <= num2 and num1 <= num3:\n",
        "        smallest = num1\n",
        "    elif num2 <= num1 and num2 <= num3:\n",
        "        smallest = num2\n",
        "    else:\n",
        "        smallest = num3\n",
        "\n",
        "    # Print the smallest number\n",
        "    print(f\"The smallest number is: {smallest}\")\n",
        "\n"
      ],
      "metadata": {
        "colab": {
          "base_uri": "https://localhost:8080/"
        },
        "id": "Wwjp4IHfNjPE",
        "outputId": "a277cacb-5324-4af7-aba2-b4e8cd75fe9b"
      },
      "execution_count": 20,
      "outputs": [
        {
          "output_type": "stream",
          "name": "stdout",
          "text": [
            "Enter the first number: 3\n",
            "Enter the second number: 4\n",
            "Enter the third number: 5\n",
            "The smallest number is: 3.0\n"
          ]
        }
      ]
    },
    {
      "cell_type": "code",
      "source": [
        "# Take user input for three numbers\n",
        "num1 = float(input(\"Enter the first number: \"))\n",
        "num2 = float(input(\"Enter the second number: \"))\n",
        "num3 = float(input(\"Enter the third number: \"))\n",
        "\n",
        "# Check if all three numbers are equal\n",
        "if num1 == num2 == num3:\n",
        "    print(\"All numbers are equal.\")\n",
        "else:\n",
        "    # Determine the smallest number\n",
        "    if num1 <= num2 and num1 <= num3:\n",
        "        smallest = num1\n",
        "    elif num2 <= num1 and num2 <= num3:\n",
        "        smallest = num2\n",
        "    else:\n",
        "        smallest = num3\n",
        "\n",
        "    # Print the smallest number\n",
        "    print(f\"The smallest number is: {smallest}\")\n",
        "\n"
      ],
      "metadata": {
        "colab": {
          "base_uri": "https://localhost:8080/"
        },
        "id": "5M_tTIsRTJIz",
        "outputId": "02e748ad-7c59-4fb8-a292-e9651ce02fae"
      },
      "execution_count": 21,
      "outputs": [
        {
          "output_type": "stream",
          "name": "stdout",
          "text": [
            "Enter the first number: 3\n",
            "Enter the second number: 3\n",
            "Enter the third number: 4\n",
            "The smallest number is: 3.0\n"
          ]
        }
      ]
    },
    {
      "cell_type": "markdown",
      "source": [
        "write a Python program which prints both the largest of three numbers and smallest of three numbers when three numbers are given input, if three numbers are same, then it should print all the numbers are same"
      ],
      "metadata": {
        "id": "DQdw34RXUe4Z"
      }
    },
    {
      "cell_type": "code",
      "source": [
        "# Take user input for three numbers\n",
        "num1 = float(input(\"Enter the first number: \"))\n",
        "num2 = float(input(\"Enter the second number: \"))\n",
        "num3 = float(input(\"Enter the third number: \"))\n",
        "\n",
        "# Check if all three numbers are equal\n",
        "if num1 == num2 == num3:\n",
        "    print(\"All numbers are the same.\")\n",
        "else:\n",
        "    # Determine the largest number\n",
        "    if num1 >= num2 and num1 >= num3:\n",
        "        largest = num1\n",
        "    elif num2 >= num1 and num2 >= num3:\n",
        "        largest = num2\n",
        "    else:\n",
        "        largest = num3\n",
        "\n",
        "    # Determine the smallest number\n",
        "    if num1 <= num2 and num1 <= num3:\n",
        "        smallest = num1\n",
        "    elif num2 <= num1 and num2 <= num3:\n",
        "        smallest = num2\n",
        "    else:\n",
        "        smallest = num3\n",
        "\n",
        "    # Print the largest and smallest numbers\n",
        "    print(f\"The largest number is: {largest}\")\n",
        "    print(f\"The smallest number is: {smallest}\")\n"
      ],
      "metadata": {
        "colab": {
          "base_uri": "https://localhost:8080/"
        },
        "id": "7izsVkSQUsqw",
        "outputId": "0266d6e7-2e6a-48e5-ecc8-fee4f373418a"
      },
      "execution_count": 22,
      "outputs": [
        {
          "output_type": "stream",
          "name": "stdout",
          "text": [
            "Enter the first number: 2\n",
            "Enter the second number: 2\n",
            "Enter the third number: 2\n",
            "All numbers are the same.\n"
          ]
        }
      ]
    },
    {
      "cell_type": "code",
      "source": [
        "# Take user input for three numbers\n",
        "num1 = float(input(\"Enter the first number: \"))\n",
        "num2 = float(input(\"Enter the second number: \"))\n",
        "num3 = float(input(\"Enter the third number: \"))\n",
        "\n",
        "# Check if all three numbers are equal\n",
        "if num1 == num2 == num3:\n",
        "    print(\"All numbers are the same.\")\n",
        "else:\n",
        "    # Determine the largest number\n",
        "    if num1 >= num2 and num1 >= num3:\n",
        "        largest = num1\n",
        "    elif num2 >= num1 and num2 >= num3:\n",
        "        largest = num2\n",
        "    else:\n",
        "        largest = num3\n",
        "\n",
        "    # Determine the smallest number\n",
        "    if num1 <= num2 and num1 <= num3:\n",
        "        smallest = num1\n",
        "    elif num2 <= num1 and num2 <= num3:\n",
        "        smallest = num2\n",
        "    else:\n",
        "        smallest = num3\n",
        "\n",
        "    # Print the largest and smallest numbers\n",
        "    print(f\"The largest number is: {largest}\")\n",
        "    print(f\"The smallest number is: {smallest}\")\n"
      ],
      "metadata": {
        "colab": {
          "base_uri": "https://localhost:8080/"
        },
        "id": "w_2ymoWnUxhK",
        "outputId": "fae3344f-8388-4102-a2fa-295c0e0d8000"
      },
      "execution_count": 23,
      "outputs": [
        {
          "output_type": "stream",
          "name": "stdout",
          "text": [
            "Enter the first number: 2\n",
            "Enter the second number: 2\n",
            "Enter the third number: 3\n",
            "The largest number is: 3.0\n",
            "The smallest number is: 2.0\n"
          ]
        }
      ]
    },
    {
      "cell_type": "code",
      "source": [
        "# Take user input for three numbers\n",
        "num1 = float(input(\"Enter the first number: \"))\n",
        "num2 = float(input(\"Enter the second number: \"))\n",
        "num3 = float(input(\"Enter the third number: \"))\n",
        "\n",
        "# Check if all three numbers are equal\n",
        "if num1 == num2 == num3:\n",
        "    print(\"All numbers are the same.\")\n",
        "else:\n",
        "    # Determine the largest number\n",
        "    if num1 >= num2 and num1 >= num3:\n",
        "        largest = num1\n",
        "    elif num2 >= num1 and num2 >= num3:\n",
        "        largest = num2\n",
        "    else:\n",
        "        largest = num3\n",
        "\n",
        "    # Determine the smallest number\n",
        "    if num1 <= num2 and num1 <= num3:\n",
        "        smallest = num1\n",
        "    elif num2 <= num1 and num2 <= num3:\n",
        "        smallest = num2\n",
        "    else:\n",
        "        smallest = num3\n",
        "\n",
        "    # Print the largest and smallest numbers\n",
        "    print(f\"The largest number is: {largest}\")\n",
        "    print(f\"The smallest number is: {smallest}\")\n"
      ],
      "metadata": {
        "colab": {
          "base_uri": "https://localhost:8080/"
        },
        "id": "aLp7kOJNU2Es",
        "outputId": "bb6d08f3-8424-41aa-824a-358880d9b5ae"
      },
      "execution_count": 24,
      "outputs": [
        {
          "output_type": "stream",
          "name": "stdout",
          "text": [
            "Enter the first number: 2\n",
            "Enter the second number: 3\n",
            "Enter the third number: 4\n",
            "The largest number is: 4.0\n",
            "The smallest number is: 2.0\n"
          ]
        }
      ]
    },
    {
      "cell_type": "markdown",
      "source": [
        "Write a Python program that checks if a person is eligible to vote.\n",
        "If (age >= 18) then print “You are eligible to vote”, otherwise print “You\n",
        "are not eligible to vote”."
      ],
      "metadata": {
        "id": "QNBw3-_4OGQj"
      }
    },
    {
      "cell_type": "code",
      "source": [
        "# Take user input for age\n",
        "age = int(input(\"Enter your age: \"))\n",
        "\n",
        "# Check if the person is eligible to vote\n",
        "if age >= 18:\n",
        "    print(\"You are eligible to vote.\")\n",
        "else:\n",
        "    print(\"You are not eligible to vote.\")\n"
      ],
      "metadata": {
        "colab": {
          "base_uri": "https://localhost:8080/"
        },
        "id": "mbqhuIOoOHN9",
        "outputId": "ed71e48b-23fa-4588-ec8f-9eead8b242c9"
      },
      "execution_count": 13,
      "outputs": [
        {
          "output_type": "stream",
          "name": "stdout",
          "text": [
            "Enter your age: 19\n",
            "You are eligible to vote.\n"
          ]
        }
      ]
    },
    {
      "cell_type": "markdown",
      "source": [
        "Write a Python program to find out the volume of cone, where radius and\n",
        "height of the cone should be user given input."
      ],
      "metadata": {
        "id": "zrLfLbkDOUDa"
      }
    },
    {
      "cell_type": "code",
      "source": [
        "import math\n",
        "\n",
        "# Take user input for radius and height\n",
        "radius = float(input(\"Enter the radius of the cone: \"))\n",
        "height = float(input(\"Enter the height of the cone: \"))\n",
        "\n",
        "# Calculate the volume of the cone\n",
        "volume = (1 / 3) * math.pi * radius ** 2 * height\n",
        "\n",
        "# Print the volume of the cone\n",
        "print(f\"The volume of the cone is: {volume:.2f}\")\n"
      ],
      "metadata": {
        "colab": {
          "base_uri": "https://localhost:8080/"
        },
        "id": "fHO1RKkmOU4G",
        "outputId": "091d42c6-f6d9-4da6-9875-de8b181dec91"
      },
      "execution_count": 14,
      "outputs": [
        {
          "output_type": "stream",
          "name": "stdout",
          "text": [
            "Enter the radius of the cone: 5\n",
            "Enter the height of the cone: 10\n",
            "The volume of the cone is: 261.80\n"
          ]
        }
      ]
    },
    {
      "cell_type": "code",
      "source": [],
      "metadata": {
        "id": "Qpr82rEnQTqV"
      },
      "execution_count": null,
      "outputs": []
    }
  ]
}