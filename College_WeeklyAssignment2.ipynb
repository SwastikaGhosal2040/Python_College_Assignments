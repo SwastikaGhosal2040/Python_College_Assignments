{
  "nbformat": 4,
  "nbformat_minor": 0,
  "metadata": {
    "colab": {
      "provenance": [],
      "authorship_tag": "ABX9TyMtbH69KUq6+Sh98HyPrAFt",
      "include_colab_link": true
    },
    "kernelspec": {
      "name": "python3",
      "display_name": "Python 3"
    },
    "language_info": {
      "name": "python"
    }
  },
  "cells": [
    {
      "cell_type": "markdown",
      "metadata": {
        "id": "view-in-github",
        "colab_type": "text"
      },
      "source": [
        "<a href=\"https://colab.research.google.com/github/SwastikaGhosal2040/Python_College_Assignments/blob/main/College_WeeklyAssignment2.ipynb\" target=\"_parent\"><img src=\"https://colab.research.google.com/assets/colab-badge.svg\" alt=\"Open In Colab\"/></a>"
      ]
    },
    {
      "cell_type": "markdown",
      "source": [
        "Write a Python program, which reads a, b and c as sides of a triangle and\n",
        "prints area. Hint: area = sqrt (s *(s - a) *(s - b) *(s - c)). [Hint: s is (a+b+c)/2]. If\n",
        "input 5,7,10 then output 16.24."
      ],
      "metadata": {
        "id": "zTvZK_IK6dhC"
      }
    },
    {
      "cell_type": "code",
      "source": [
        "import math\n",
        "\n",
        "# Take sides of the triangle as input\n",
        "a = float(input(\"Enter side a: \"))\n",
        "b = float(input(\"Enter side b: \"))\n",
        "c = float(input(\"Enter side c: \"))\n",
        "\n",
        "# Calculate the semi-perimeter\n",
        "s = (a + b + c) / 2\n",
        "\n",
        "# Calculate the area using Heron's formula\n",
        "area = math.sqrt(s * (s - a) * (s - b) * (s - c))\n",
        "\n",
        "# Print the area\n",
        "print(f\"The area of the triangle is: {area:.2f}\")\n"
      ],
      "metadata": {
        "colab": {
          "base_uri": "https://localhost:8080/"
        },
        "id": "AQAwlhNv6eav",
        "outputId": "04761326-97a2-465a-f3d2-91acecebe360"
      },
      "execution_count": 1,
      "outputs": [
        {
          "output_type": "stream",
          "name": "stdout",
          "text": [
            "Enter side a: 5\n",
            "Enter side b: 7\n",
            "Enter side c: 10\n",
            "The area of the triangle is: 16.25\n"
          ]
        }
      ]
    },
    {
      "cell_type": "markdown",
      "source": [
        "Write a Python program that accepts principle, rate and time from the\n",
        "user and print the simple interest."
      ],
      "metadata": {
        "id": "_GvWpCOm_lVR"
      }
    },
    {
      "cell_type": "code",
      "source": [
        "# Take user input for principal, rate, and time\n",
        "principal = float(input(\"Enter the principal amount: \"))\n",
        "rate = float(input(\"Enter the rate of interest (in %): \"))\n",
        "time = float(input(\"Enter the time period (in years): \"))\n",
        "\n",
        "# Calculate the simple interest\n",
        "simple_interest = (principal * rate * time) / 100\n",
        "\n",
        "# Print the simple interest\n",
        "print(f\"The simple interest is: {simple_interest:.2f}\")\n"
      ],
      "metadata": {
        "colab": {
          "base_uri": "https://localhost:8080/"
        },
        "id": "VvtO-py0_mLI",
        "outputId": "64eb4620-c069-4491-cb7f-7270f52e1028"
      },
      "execution_count": 2,
      "outputs": [
        {
          "output_type": "stream",
          "name": "stdout",
          "text": [
            "Enter the principal amount: 1000\n",
            "Enter the rate of interest (in %): 5\n",
            "Enter the time period (in years): 2\n",
            "The simple interest is: 100.00\n"
          ]
        }
      ]
    },
    {
      "cell_type": "markdown",
      "source": [
        "Write a Python program that prompts the user to input principle, rate, and\n",
        "time and calculate compound interest."
      ],
      "metadata": {
        "id": "2l_ClFnk_4zq"
      }
    },
    {
      "cell_type": "code",
      "source": [
        "# Take user input for principal, rate, and time\n",
        "principal = float(input(\"Enter the principal amount: \"))\n",
        "rate = float(input(\"Enter the rate of interest (in %): \"))\n",
        "time = float(input(\"Enter the time period (in years): \"))\n",
        "\n",
        "# Calculate the compound interest\n",
        "amount = principal * (1 + rate / 100) ** time\n",
        "compound_interest = amount - principal\n",
        "\n",
        "# Print the compound interest\n",
        "print(f\"The compound interest is: {compound_interest:.2f}\")\n"
      ],
      "metadata": {
        "colab": {
          "base_uri": "https://localhost:8080/"
        },
        "id": "HCEw3iJY_5jp",
        "outputId": "f5e113ef-2962-4554-e03d-bd06bc102d36"
      },
      "execution_count": 3,
      "outputs": [
        {
          "output_type": "stream",
          "name": "stdout",
          "text": [
            "Enter the principal amount: 1000\n",
            "Enter the rate of interest (in %): 5\n",
            "Enter the time period (in years): 2\n",
            "The compound interest is: 102.50\n"
          ]
        }
      ]
    },
    {
      "cell_type": "markdown",
      "source": [
        "Write a Python program, which reads x1, y1, x2 and y2 and finds distance\n",
        "between points (x1, y1) and (x2, y2). If input 3(x1), 7(y1), 11(x2), 13(y2)\n",
        "then output 10."
      ],
      "metadata": {
        "id": "Ruhw6T_LCSid"
      }
    },
    {
      "cell_type": "code",
      "source": [
        "import math\n",
        "\n",
        "# Take user input for coordinates\n",
        "x1 = float(input(\"Enter x1: \"))\n",
        "y1 = float(input(\"Enter y1: \"))\n",
        "x2 = float(input(\"Enter x2: \"))\n",
        "y2 = float(input(\"Enter y2: \"))\n",
        "\n",
        "# Calculate the distance using the distance formula\n",
        "distance = math.sqrt((x2 - x1) ** 2 + (y2 - y1) ** 2)\n",
        "\n",
        "# Print the distance\n",
        "print(f\"The distance between the points is: {distance:.2f}\")\n"
      ],
      "metadata": {
        "colab": {
          "base_uri": "https://localhost:8080/"
        },
        "id": "Mix-gPtEC4j1",
        "outputId": "ffd35096-c5c1-4f1d-e92d-d3d506c53ad7"
      },
      "execution_count": 6,
      "outputs": [
        {
          "output_type": "stream",
          "name": "stdout",
          "text": [
            "Enter x1: 3\n",
            "Enter y1: 7\n",
            "Enter x2: 11\n",
            "Enter y2: 13\n",
            "The distance between the points is: 10.00\n"
          ]
        }
      ]
    },
    {
      "cell_type": "markdown",
      "source": [
        "Write a Python program, which reads a, b, and c. Let ax + by + c = 0 be\n",
        "equation of a line. Print the slope. If input 3, 5, 8 then output -0.6."
      ],
      "metadata": {
        "id": "Zhq9BHokDX3Z"
      }
    },
    {
      "cell_type": "code",
      "source": [
        "# Take user input for the coefficients of the line equation\n",
        "a = float(input(\"Enter the coefficient a: \"))\n",
        "b = float(input(\"Enter the coefficient b: \"))\n",
        "c = float(input(\"Enter the constant c: \"))\n",
        "\n",
        "# Calculate the slope of the line\n",
        "if b != 0:\n",
        "    slope = -a / b\n",
        "    # Print the slope\n",
        "    print(f\"The slope of the line is: {slope:.1f}\")\n",
        "else:\n",
        "    print(\"The line is vertical, and the slope is undefined.\")\n"
      ],
      "metadata": {
        "colab": {
          "base_uri": "https://localhost:8080/"
        },
        "id": "fkxkt8zMDa-c",
        "outputId": "7b57e3f7-eba7-40ea-dfd5-ef237258fe01"
      },
      "execution_count": 7,
      "outputs": [
        {
          "output_type": "stream",
          "name": "stdout",
          "text": [
            "Enter the coefficient a: 3\n",
            "Enter the coefficient b: 5\n",
            "Enter the constant c: 8\n",
            "The slope of the line is: -0.6\n"
          ]
        }
      ]
    },
    {
      "cell_type": "code",
      "source": [],
      "metadata": {
        "id": "2ifDLIZqECFr"
      },
      "execution_count": null,
      "outputs": []
    }
  ]
}